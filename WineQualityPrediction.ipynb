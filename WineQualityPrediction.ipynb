{
  "nbformat": 4,
  "nbformat_minor": 0,
  "metadata": {
    "colab": {
      "provenance": [],
      "authorship_tag": "ABX9TyMXwc7MFbdBnk3d6rAApvNm",
      "include_colab_link": true
    },
    "kernelspec": {
      "name": "python3",
      "display_name": "Python 3"
    },
    "language_info": {
      "name": "python"
    }
  },
  "cells": [
    {
      "cell_type": "markdown",
      "metadata": {
        "id": "view-in-github",
        "colab_type": "text"
      },
      "source": [
        "<a href=\"https://colab.research.google.com/github/sonia73b/Sonia-Bhandari/blob/main/WineQualityPrediction.ipynb\" target=\"_parent\"><img src=\"https://colab.research.google.com/assets/colab-badge.svg\" alt=\"Open In Colab\"/></a>"
      ]
    },
    {
      "cell_type": "code",
      "execution_count": null,
      "metadata": {
        "id": "BqHpzsf8GVzD"
      },
      "outputs": [],
      "source": [
        "import numpy as np\n",
        "import pandas as pd\n",
        "import matplotlib.pyplot as plt\n",
        "import seaborn as sns\n",
        "import warnings\n",
        "warnings.filterwarnings(\"ignore\")"
      ]
    },
    {
      "cell_type": "code",
      "source": [
        "data=pd.read_csv(\"/content/WineQT.csv\")"
      ],
      "metadata": {
        "id": "EsydhGRuidDg"
      },
      "execution_count": null,
      "outputs": []
    },
    {
      "cell_type": "code",
      "source": [
        "data.head(6)"
      ],
      "metadata": {
        "id": "NpWvzmwli3Cv"
      },
      "execution_count": null,
      "outputs": []
    },
    {
      "cell_type": "code",
      "source": [
        "data.head()"
      ],
      "metadata": {
        "id": "nsXsRnBmi6RQ"
      },
      "execution_count": null,
      "outputs": []
    },
    {
      "cell_type": "code",
      "source": [
        "data.info()"
      ],
      "metadata": {
        "id": "0lykPw3_i8sI"
      },
      "execution_count": null,
      "outputs": []
    },
    {
      "cell_type": "code",
      "source": [
        "data.describe()"
      ],
      "metadata": {
        "id": "SfAxgDu9jAU_"
      },
      "execution_count": null,
      "outputs": []
    },
    {
      "cell_type": "code",
      "source": [
        "data.hist(bins=20,figsize=(10,10))\n",
        "plt.show()"
      ],
      "metadata": {
        "id": "w-iCYnu5jDMj"
      },
      "execution_count": null,
      "outputs": []
    },
    {
      "cell_type": "code",
      "source": [
        "data.columns\n"
      ],
      "metadata": {
        "id": "33LVKJ3mjTd0"
      },
      "execution_count": null,
      "outputs": []
    },
    {
      "cell_type": "code",
      "source": [
        "from scipy.stats import zscore\n",
        "\n",
        "#calculating the threshold dynamically\n",
        "#'data[\"sulphates\"].mean()' = mean of 'sulphates' column\n",
        "#'data[\"sulphates\"].std()'=standard deviation of 'sulphates' column\n",
        "\n",
        "z_scores = zscore(data[\"sulphates\"])\n",
        "z_scores.mean()\n",
        "threshold = (100 -data[\"sulphates\"].mean() )/data[\"sulphates\"].std()\n",
        "outliers_mask = abs(z_scores) > threshold\n",
        "\n",
        "# Removing rows with outliers\n",
        "data = data[~outliers_mask]"
      ],
      "metadata": {
        "id": "9tN4nSNSjZoy"
      },
      "execution_count": null,
      "outputs": []
    },
    {
      "cell_type": "code",
      "source": [
        "data[\"quality\"].value_counts()"
      ],
      "metadata": {
        "id": "K8Ow1h6RlWuV"
      },
      "execution_count": null,
      "outputs": []
    },
    {
      "cell_type": "code",
      "source": [
        "#'quality' column is mapped in a series\n",
        "#In this case, the ('3, 4, 5, 6, 7, 8) is replaced by (0,1,2,3,4,5)\n",
        "\n",
        "data[\"quality\"]=data[\"quality\"].map({3:0, 4:1, 5:2, 6:3, 7:4, 8:5}) #'.map()' = mapping the values in series"
      ],
      "metadata": {
        "id": "rJol7tcrlfxQ"
      },
      "execution_count": null,
      "outputs": []
    },
    {
      "cell_type": "code",
      "source": [
        "data.drop (\"Id\", axis=1, inplace=True)"
      ],
      "metadata": {
        "id": "QfJyoNUGllmn"
      },
      "execution_count": null,
      "outputs": []
    },
    {
      "cell_type": "code",
      "source": [
        "data.isnull().sum()"
      ],
      "metadata": {
        "id": "CIGuqrgvnXIE"
      },
      "execution_count": null,
      "outputs": []
    },
    {
      "cell_type": "code",
      "source": [
        "data.columns"
      ],
      "metadata": {
        "id": "EFQS0rmFxk7o"
      },
      "execution_count": null,
      "outputs": []
    },
    {
      "cell_type": "code",
      "source": [
        "sns.heatmap(data.corr())"
      ],
      "metadata": {
        "id": "UKVMq8FAooU3"
      },
      "execution_count": null,
      "outputs": []
    },
    {
      "cell_type": "code",
      "source": [
        "data.drop(\"free sulfur dioxide\",axis=1,inplace=True)"
      ],
      "metadata": {
        "id": "jCt3WSLyoskC"
      },
      "execution_count": null,
      "outputs": []
    },
    {
      "cell_type": "code",
      "source": [
        "data.duplicated().sum()"
      ],
      "metadata": {
        "id": "iBGg56b0o_No"
      },
      "execution_count": null,
      "outputs": []
    },
    {
      "cell_type": "code",
      "source": [
        "data.quality.value_counts()"
      ],
      "metadata": {
        "id": "4l8MYRJKpCmK"
      },
      "execution_count": null,
      "outputs": []
    },
    {
      "cell_type": "code",
      "source": [
        "data[\"quality\"]=[1 if x< 3 else 0 for x in data.quality]"
      ],
      "metadata": {
        "id": "xi7mN5j6pFoZ"
      },
      "execution_count": null,
      "outputs": []
    },
    {
      "cell_type": "code",
      "source": [
        "data.quality.value_counts()"
      ],
      "metadata": {
        "id": "QOURVSf5pv5D"
      },
      "execution_count": null,
      "outputs": []
    },
    {
      "cell_type": "code",
      "source": [
        "from sklearn.model_selection import train_test_split\n"
      ],
      "metadata": {
        "id": "Kf2KsBa0p6EQ"
      },
      "execution_count": null,
      "outputs": []
    },
    {
      "cell_type": "code",
      "source": [
        "data[\"quality\"]=data[\"quality\"].astype('int')"
      ],
      "metadata": {
        "id": "bRGMqye3tF-l"
      },
      "execution_count": null,
      "outputs": []
    },
    {
      "cell_type": "code",
      "source": [
        "df_train, df_test=train_test_split(data, train_size=0.85, test_size=0.15, random_state=1)"
      ],
      "metadata": {
        "id": "JJkzrEcVp-9K"
      },
      "execution_count": null,
      "outputs": []
    },
    {
      "cell_type": "code",
      "source": [
        "df_train"
      ],
      "metadata": {
        "id": "U6w1r3l3sLc7"
      },
      "execution_count": null,
      "outputs": []
    },
    {
      "cell_type": "code",
      "source": [
        "df_train.shape"
      ],
      "metadata": {
        "id": "RWmLZGxasTBn"
      },
      "execution_count": null,
      "outputs": []
    },
    {
      "cell_type": "code",
      "source": [
        "df_test.shape"
      ],
      "metadata": {
        "id": "njwHQ38btyyn"
      },
      "execution_count": null,
      "outputs": []
    },
    {
      "cell_type": "code",
      "source": [
        "from sklearn.linear_model import LinearRegression\n",
        "x_train=df_train[['fixed acidity','volatile acidity','citric acid','residual sugar','chlorides','total sulfur dioxide','density','pH','sulphates','alcohol']]\n",
        "y_train=df_train['quality']\n",
        "\n",
        "\n",
        "# for linear regression\n",
        "lr = LinearRegression()\n",
        "lr_model = lr.fit(x_train, y_train)\n",
        "\n",
        "\n",
        "# # #for logistic regression\n",
        "from sklearn.linear_model import LogisticRegression\n",
        "lg = LogisticRegression()\n",
        "lg_model = lg.fit(x_train, y_train)\n",
        "\n",
        "# # # # #for polynomial regression\n",
        "from sklearn.preprocessing import PolynomialFeatures\n",
        "poly_reg = PolynomialFeatures(degree=8)\n",
        "X_poly = poly_reg.fit_transform(x_train)\n",
        "# Y_poly = poly_reg.fit_transform(y_train)\n",
        "pol_reg = LinearRegression()\n",
        "model = pol_reg.fit(X_poly, y_train)\n",
        "poly_reg.fit(x_train, y_train)"
      ],
      "metadata": {
        "id": "zv-lxH03t1Za"
      },
      "execution_count": null,
      "outputs": []
    },
    {
      "cell_type": "code",
      "source": [
        "#dumping the model\n",
        "import pickle as pk\n",
        "filename= 'model.pickle'\n",
        "pk.dump(lr_model, open(filename, 'wb'))\n"
      ],
      "metadata": {
        "id": "UI4ad4Uex-RC"
      },
      "execution_count": null,
      "outputs": []
    },
    {
      "cell_type": "code",
      "source": [
        "data1= df_test.iloc[50:51]\n",
        "actual_quality=data1['quality']\n",
        "data1=data1.drop(['quality'],axis=1)\n",
        "data1"
      ],
      "metadata": {
        "id": "4cENSEpCyK9f"
      },
      "execution_count": null,
      "outputs": []
    },
    {
      "cell_type": "code",
      "source": [
        "#linear model\n",
        "print(\"Predicted quality\", lr_model.predict(data1))\n",
        "print(\"Actual quality\", actual_quality)"
      ],
      "metadata": {
        "id": "xlGWAO3WzTuJ"
      },
      "execution_count": null,
      "outputs": []
    },
    {
      "cell_type": "code",
      "source": [
        "# #logistic\n",
        "print(\"Predicted quality\",lg_model.predict(data1))\n",
        "print(\"Actual quality\",actual_quality)"
      ],
      "metadata": {
        "id": "xK73UcfxzkDn"
      },
      "execution_count": null,
      "outputs": []
    },
    {
      "cell_type": "code",
      "source": [
        "# # #polynomial regression model test\n",
        "predicted_quality = pol_reg.predict(poly_reg.fit_transform(data1))\n",
        "print(\"Actual quality\",actual_quality)\n",
        "print(\"predicted quality\",predicted_quality)"
      ],
      "metadata": {
        "id": "gS_3ZrrLzxp4"
      },
      "execution_count": null,
      "outputs": []
    },
    {
      "cell_type": "code",
      "source": [
        "#train acc\n",
        "print(\"Linear regression = \",round(lr_model.score(x_train, y_train)*100))\n",
        "print(\"Logistic regression = \",lg_model.score(x_train, y_train)*100),2\n",
        "print(\"Polynomial regression = \",pol_reg.score(poly_reg.fit_transform(x_train), y_train)*100)\n",
        "\n"
      ],
      "metadata": {
        "id": "HgyriKWuz789"
      },
      "execution_count": null,
      "outputs": []
    },
    {
      "cell_type": "code",
      "source": [
        "# # Testing\n",
        "data = df_test.iloc[32:33]\n",
        "actual_quality = data.pop('quality')\n",
        "\n",
        "# # # print(data1)\n",
        "predicted_quality = pol_reg.predict(poly_reg.fit_transform(data))\n",
        "print(\"Actual quality\", actual_quality)\n",
        "print(\"predicted quality\",predicted_quality)\n",
        "\n",
        "# # print(df_test.iloc[0:1])\n",
        "# data"
      ],
      "metadata": {
        "id": "wZkY3soO0HKE"
      },
      "execution_count": null,
      "outputs": []
    },
    {
      "cell_type": "code",
      "source": [
        "data= {'fixed acidity':[float(input(\"Enter fixed acidity\"))],\n",
        "       'volatile acidity': [float(input(\"Enter volatile acidity\"))],\n",
        "       'citric acid': [float(input(\"Enter citric acid\"))],\n",
        "       'residual sugar': [float(input(\"Enter residual sugar\"))],\n",
        "       'chlorides': [float(input(\"Enter chlorides\"))],\n",
        "       'total sulfur dioxide': [float(input(\"Enter total sulfur dioxide\"))],\n",
        "       'density': [float(input(\"Enter density\"))],\n",
        "       'pH': [float(input(\"Enter pH\"))],\n",
        "       'sulphates': [float(input(\"Enter sulphates\"))],\n",
        "       'alcohol': [float(input(\"Enter alcohol\"))]}\n",
        "\n",
        "df= pd.DataFrame(data1)\n",
        "predicted_quality=lr_model.predict(df)\n",
        "\n",
        "print(\"Predicted quality\", np.round(predicted_quality,2))\n",
        "df"
      ],
      "metadata": {
        "id": "wKk-Ryky8JiA"
      },
      "execution_count": null,
      "outputs": []
    },
    {
      "cell_type": "code",
      "source": [
        "plt.scatter(y_train,model.predict(poly_reg.fit_transform(x_train)),color='blue')\n",
        "plt.xlabel('Actual quality')\n",
        "plt.ylabel('Predicted quality')\n",
        "plt.show()"
      ],
      "metadata": {
        "id": "ObR2gWzAJPis"
      },
      "execution_count": null,
      "outputs": []
    },
    {
      "cell_type": "code",
      "source": [
        "plt.scatter(y_train,lg_model.predict(x_train),color = 'red')\n",
        "plt.xlabel('Actual quality')\n",
        "plt.ylabel('Predicted quality')\n",
        "plt.show()"
      ],
      "metadata": {
        "id": "j9ixJKLvJntE"
      },
      "execution_count": null,
      "outputs": []
    },
    {
      "cell_type": "code",
      "source": [
        "plt.scatter(y_train,lr_model.predict(x_train),color = 'red')\n"
      ],
      "metadata": {
        "id": "C7U-lLGuJx80"
      },
      "execution_count": null,
      "outputs": []
    },
    {
      "cell_type": "code",
      "source": [
        "x = np.array([int(i) for i in range(50)])\n",
        "y = x\n",
        "plt.scatter(x,y,color = 'red')\n"
      ],
      "metadata": {
        "id": "N4yibz8WJ2qH"
      },
      "execution_count": null,
      "outputs": []
    }
  ]
}